{
 "cells": [
  {
   "cell_type": "code",
   "execution_count": 1,
   "metadata": {},
   "outputs": [
    {
     "name": "stdout",
     "output_type": "stream",
     "text": [
      "[3, 6, 9]\n"
     ]
    }
   ],
   "source": [
    "#Q - Question1\n",
    "'''Create a function that takes three parameters where:\n",
    " x is the start of the range (inclusive).\n",
    " y is the end of the range (inclusive).\n",
    " n is the divisor to be checked against.\n",
    "Return an ordered list with numbers in the range that are divisible by the third parameter n.\n",
    "Return an empty list if there are no numbers that are divisible by n.''' \n",
    "\n",
    "#Answer:\n",
    "def find_divisible_numbers(x, y, n):\n",
    "    divisible_numbers = [num for num in range(x, y+1) if num % n == 0]\n",
    "    return divisible_numbers\n",
    "\n",
    "start_range = 1\n",
    "end_range = 10\n",
    "divisor = 3\n",
    "\n",
    "numbers = find_divisible_numbers(start_range, end_range, divisor)\n",
    "print(numbers)\n"
   ]
  },
  {
   "cell_type": "code",
   "execution_count": 4,
   "metadata": {},
   "outputs": [
    {
     "name": "stdout",
     "output_type": "stream",
     "text": [
      "False\n"
     ]
    }
   ],
   "source": [
    "#Q - Question2\n",
    "'''Create a function that takes in two lists and returns True if the second list follows the first list\n",
    "by one element, and False otherwise. In other words, determine if the second list is the first\n",
    "list shifted to the right by 1.'''  \n",
    "\n",
    "#Answer:'\n",
    "def is_shifted_list(first_list, second_list):\n",
    "    if len(first_list) != len(second_list) - 1:\n",
    "        return False\n",
    "\n",
    "    shifted_list = first_list[1:]  # Get a sublist of first_list excluding the first element\n",
    "\n",
    "    return shifted_list == second_list[:-1]  # Check if shifted_list matches second_list excluding the last element\n",
    "\n",
    "list1 = [1, 2]\n",
    "list2 = [5,5]\n",
    "\n",
    "result = is_shifted_list(list1, list2)\n",
    "print(result)\n",
    "\n"
   ]
  },
  {
   "cell_type": "code",
   "execution_count": 5,
   "metadata": {},
   "outputs": [
    {
     "name": "stdout",
     "output_type": "stream",
     "text": [
      "ABCD\n"
     ]
    }
   ],
   "source": [
    "#Q - Question3 - \n",
    "'''A group of friends have decided to start a secret society. The name will be the first letter of\n",
    "each of their names, sorted in alphabetical order.\n",
    "Create a function that takes in a list of names and returns the name of the secret society.''' \n",
    "\n",
    "#Answer:\n",
    "def create_secret_society(names):\n",
    "    secret_name = ''.join(sorted(name[0] for name in names))\n",
    "    return secret_name\n",
    "    \n",
    "friend_names = ['Alice', 'Bob', 'Charlie', 'David']\n",
    "secret_society_name = create_secret_society(friend_names)\n",
    "print(secret_society_name)\n"
   ]
  },
  {
   "cell_type": "code",
   "execution_count": 7,
   "metadata": {},
   "outputs": [
    {
     "name": "stdout",
     "output_type": "stream",
     "text": [
      "True\n",
      "False\n"
     ]
    }
   ],
   "source": [
    "#Q - Question4\n",
    "'''An isogram is a word that has no duplicate letters. Create a function that takes a string and\n",
    "returns either True or False depending on whether or not it&#39;s an &quot;isogram&quot;.'''  \n",
    "#Answer:\n",
    "def is_isogram(word):\n",
    "    word = word.lower()\n",
    "    letter_count = {}\n",
    "\n",
    "    for letter in word:\n",
    "        if letter.isalpha():\n",
    "            if letter in letter_count:\n",
    "                return False\n",
    "            else:\n",
    "                letter_count[letter] = 1\n",
    "\n",
    "    return True\n",
    "\n",
    "word1 = \"Algorism\"\n",
    "word2 = \"Consecutive\"\n",
    "\n",
    "print(is_isogram(word1))  # Output: True\n",
    "print(is_isogram(word2))  # Output: False\n",
    "\n",
    "\n"
   ]
  },
  {
   "cell_type": "code",
   "execution_count": 9,
   "metadata": {},
   "outputs": [
    {
     "name": "stdout",
     "output_type": "stream",
     "text": [
      "True\n",
      "False\n",
      "True\n"
     ]
    }
   ],
   "source": [
    "#Q - Question5\n",
    "'''Create a function that takes a string and returns True or False, depending on whether the\n",
    "characters are in order or not.'''  \n",
    "#Answer:\n",
    "def is_in_order(word):\n",
    "    sorted_word = ''.join(sorted(word))\n",
    "    return word == sorted_word\n",
    "\n",
    "word1 = \"abc\"\n",
    "word2 = \"edabit\"\n",
    "word3 = \"123\"\n",
    "\n",
    "print(is_in_order(word1)) \n",
    "print(is_in_order(word2)) \n",
    "print(is_in_order(word3))\n"
   ]
  },
  {
   "cell_type": "code",
   "execution_count": null,
   "metadata": {},
   "outputs": [],
   "source": []
  }
 ],
 "metadata": {
  "kernelspec": {
   "display_name": "Python 3.9.6 64-bit",
   "language": "python",
   "name": "python3"
  },
  "language_info": {
   "codemirror_mode": {
    "name": "ipython",
    "version": 3
   },
   "file_extension": ".py",
   "mimetype": "text/x-python",
   "name": "python",
   "nbconvert_exporter": "python",
   "pygments_lexer": "ipython3",
   "version": "3.9.6"
  },
  "orig_nbformat": 4,
  "vscode": {
   "interpreter": {
    "hash": "31f2aee4e71d21fbe5cf8b01ff0e069b9275f58929596ceb00d14d90e3e16cd6"
   }
  }
 },
 "nbformat": 4,
 "nbformat_minor": 2
}
